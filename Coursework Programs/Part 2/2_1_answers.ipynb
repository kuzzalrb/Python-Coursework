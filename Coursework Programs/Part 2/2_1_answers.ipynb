{
 "cells": [
  {
   "cell_type": "markdown",
   "metadata": {},
   "source": [
    "## 1. Data Understanding\n"
   ]
  },
  {
   "cell_type": "markdown",
   "metadata": {},
   "source": [
    "#### Understand what your data resources are and what the characteristics of those resources are. Write down your findings including the characteristics of the different columns in the dataset."
   ]
  },
  {
   "cell_type": "code",
   "execution_count": null,
   "metadata": {},
   "outputs": [],
   "source": [
    "import pandas as pd\n",
    "import numpy as np"
   ]
  },
  {
   "cell_type": "code",
   "execution_count": 2,
   "metadata": {},
   "outputs": [
    {
     "data": {
      "text/plain": [
       "DISTRICT        60\n",
       "Horses/Asses    60\n",
       "dtype: int64"
      ]
     },
     "execution_count": 2,
     "metadata": {},
     "output_type": "execute_result"
    }
   ],
   "source": [
    "data_horse_asses = pd.read_csv('horseasses-population-in-nepal-by-district.csv')\n",
    "data_horse_asses.count()"
   ]
  },
  {
   "cell_type": "code",
   "execution_count": 5,
   "metadata": {},
   "outputs": [
    {
     "data": {
      "text/plain": [
       "DISTRICT                  96\n",
       "MILKING  COWS NO.         96\n",
       "MILKING  BUFFALOES NO.    96\n",
       "COW MILK                  96\n",
       "BUFF MILK                 96\n",
       "TOTAL MILK PRODUCED       95\n",
       "dtype: int64"
      ]
     },
     "execution_count": 5,
     "metadata": {},
     "output_type": "execute_result"
    }
   ],
   "source": [
    "data_milk = pd.read_csv('milk-animals-and-milk-production-in-nepal-by-district.csv')\n",
    "data_milk.count()"
   ]
  },
  {
   "cell_type": "code",
   "execution_count": 6,
   "metadata": {},
   "outputs": [
    {
     "data": {
      "text/plain": [
       "DISTRICT      96\n",
       "BUFF          96\n",
       "MUTTON        96\n",
       "CHEVON        96\n",
       "PORK          96\n",
       "CHICKEN       96\n",
       "DUCK MEAT     96\n",
       "TOTAL MEAT    96\n",
       "dtype: int64"
      ]
     },
     "execution_count": 6,
     "metadata": {},
     "output_type": "execute_result"
    }
   ],
   "source": [
    "data_meat = pd.read_csv('net-meat-production-in-nepal-by-district.csv')\n",
    "data_meat.count()"
   ]
  },
  {
   "cell_type": "code",
   "execution_count": 3,
   "metadata": {},
   "outputs": [
    {
     "data": {
      "text/plain": [
       "DISTRICT       4\n",
       "AREA (Ha.)     4\n",
       "PROD. (Mt.)    4\n",
       "YIELD Kg/Ha    4\n",
       "dtype: int64"
      ]
     },
     "execution_count": 3,
     "metadata": {},
     "output_type": "execute_result"
    }
   ],
   "source": [
    "data_cotton = pd.read_csv('production-of-cotton-in-nepal-by-district.csv')\n",
    "data_cotton.count()"
   ]
  },
  {
   "cell_type": "code",
   "execution_count": 7,
   "metadata": {},
   "outputs": [
    {
     "data": {
      "text/plain": [
       "DISTRICT       96\n",
       "LAYING HEN     96\n",
       "LAYING DUCK    96\n",
       "HEN EGG        96\n",
       "DUCK EGG       96\n",
       "TOTAL EGG      96\n",
       "dtype: int64"
      ]
     },
     "execution_count": 7,
     "metadata": {},
     "output_type": "execute_result"
    }
   ],
   "source": [
    "data_egg = pd.read_csv('production-of-egg-in-nepal-by-district.csv')\n",
    "data_egg.count()"
   ]
  },
  {
   "cell_type": "code",
   "execution_count": 8,
   "metadata": {},
   "outputs": [
    {
     "data": {
      "text/plain": [
       "DISTRICT    55\n",
       "Rabbit      55\n",
       "dtype: int64"
      ]
     },
     "execution_count": 8,
     "metadata": {},
     "output_type": "execute_result"
    }
   ],
   "source": [
    "data_rabbit = pd.read_csv('rabbit-population-in-nepal-by-district.csv')\n",
    "data_rabbit.count()"
   ]
  },
  {
   "cell_type": "code",
   "execution_count": 9,
   "metadata": {},
   "outputs": [
    {
     "data": {
      "text/plain": [
       "DISTRICT               96\n",
       "SHEEPS NO.             96\n",
       "SHEEP WOOL PRODUCED    96\n",
       "dtype: int64"
      ]
     },
     "execution_count": 9,
     "metadata": {},
     "output_type": "execute_result"
    }
   ],
   "source": [
    "data_wool = pd.read_csv('wool-production-in-nepal-by-district.csv')\n",
    "data_wool.count()"
   ]
  },
  {
   "cell_type": "code",
   "execution_count": 10,
   "metadata": {},
   "outputs": [
    {
     "data": {
      "text/plain": [
       "DISTRICT          35\n",
       "YAK/NAK/CHAURI    35\n",
       "dtype: int64"
      ]
     },
     "execution_count": 10,
     "metadata": {},
     "output_type": "execute_result"
    }
   ],
   "source": [
    "data_yak = pd.read_csv('yak-nak-chauri-population-in-nepal-by-district.csv')\n",
    "data_yak.count()"
   ]
  }
 ],
 "metadata": {
  "interpreter": {
   "hash": "f380b2d1d7c11a4d8fff087c1c942e44f6228d6469301290b6b6d9ba4240254c"
  },
  "kernelspec": {
   "display_name": "Python 3.8.8 64-bit ('base': conda)",
   "language": "python",
   "name": "python3"
  },
  "language_info": {
   "codemirror_mode": {
    "name": "ipython",
    "version": 3
   },
   "file_extension": ".py",
   "mimetype": "text/x-python",
   "name": "python",
   "nbconvert_exporter": "python",
   "pygments_lexer": "ipython3",
   "version": "3.8.8"
  },
  "orig_nbformat": 4
 },
 "nbformat": 4,
 "nbformat_minor": 2
}
