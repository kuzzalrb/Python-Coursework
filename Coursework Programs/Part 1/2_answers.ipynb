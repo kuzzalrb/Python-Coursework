{
 "cells": [
  {
   "cell_type": "markdown",
   "id": "d9187fb9",
   "metadata": {},
   "source": [
    "## 2. Data Transformation\n"
   ]
  },
  {
   "cell_type": "markdown",
   "id": "445a230e",
   "metadata": {},
   "source": [
    "#### Write code to transform variables according to the following guidelines:\n",
    "\n"
   ]
  },
  {
   "cell_type": "markdown",
   "id": "515e3474",
   "metadata": {},
   "source": [
    "#### a) school, sex, address, famsize, Pstatus, schoolsup, famsup, paid, activities, nursery, higher, internet and romantic into binary; 0 or 1 (create new columns without overwriting the existing ones)"
   ]
  },
  {
   "cell_type": "code",
   "execution_count": 100,
   "id": "9523cf77",
   "metadata": {},
   "outputs": [],
   "source": [
    "import pandas as pd\n",
    "import numpy as np"
   ]
  },
  {
   "cell_type": "code",
   "execution_count": 101,
   "id": "7bbc4535-42f8-4a40-acca-2230d78731de",
   "metadata": {},
   "outputs": [
    {
     "data": {
      "text/html": [
       "<div>\n",
       "<style scoped>\n",
       "    .dataframe tbody tr th:only-of-type {\n",
       "        vertical-align: middle;\n",
       "    }\n",
       "\n",
       "    .dataframe tbody tr th {\n",
       "        vertical-align: top;\n",
       "    }\n",
       "\n",
       "    .dataframe thead th {\n",
       "        text-align: right;\n",
       "    }\n",
       "</style>\n",
       "<table border=\"1\" class=\"dataframe\">\n",
       "  <thead>\n",
       "    <tr style=\"text-align: right;\">\n",
       "      <th></th>\n",
       "      <th>school</th>\n",
       "      <th>sex</th>\n",
       "      <th>age</th>\n",
       "      <th>address</th>\n",
       "      <th>famsize</th>\n",
       "      <th>Pstatus</th>\n",
       "      <th>Medu</th>\n",
       "      <th>Fedu</th>\n",
       "      <th>Mjob</th>\n",
       "      <th>Fjob</th>\n",
       "      <th>...</th>\n",
       "      <th>famrel</th>\n",
       "      <th>freetime</th>\n",
       "      <th>goout</th>\n",
       "      <th>Dalc</th>\n",
       "      <th>Walc</th>\n",
       "      <th>health</th>\n",
       "      <th>absences</th>\n",
       "      <th>G1</th>\n",
       "      <th>G2</th>\n",
       "      <th>G3</th>\n",
       "    </tr>\n",
       "  </thead>\n",
       "  <tbody>\n",
       "    <tr>\n",
       "      <th>0</th>\n",
       "      <td>GP</td>\n",
       "      <td>F</td>\n",
       "      <td>18</td>\n",
       "      <td>U</td>\n",
       "      <td>GT3</td>\n",
       "      <td>A</td>\n",
       "      <td>higher education</td>\n",
       "      <td>higher education</td>\n",
       "      <td>at_home</td>\n",
       "      <td>teacher</td>\n",
       "      <td>...</td>\n",
       "      <td>very good</td>\n",
       "      <td>medium</td>\n",
       "      <td>high</td>\n",
       "      <td>very low</td>\n",
       "      <td>very low</td>\n",
       "      <td>good</td>\n",
       "      <td>6</td>\n",
       "      <td>5</td>\n",
       "      <td>6</td>\n",
       "      <td>6</td>\n",
       "    </tr>\n",
       "    <tr>\n",
       "      <th>1</th>\n",
       "      <td>GP</td>\n",
       "      <td>F</td>\n",
       "      <td>17</td>\n",
       "      <td>U</td>\n",
       "      <td>GT3</td>\n",
       "      <td>T</td>\n",
       "      <td>primary education (4th grade)</td>\n",
       "      <td>primary education (4th grade)</td>\n",
       "      <td>at_home</td>\n",
       "      <td>other</td>\n",
       "      <td>...</td>\n",
       "      <td>excellent</td>\n",
       "      <td>medium</td>\n",
       "      <td>medium</td>\n",
       "      <td>very low</td>\n",
       "      <td>very low</td>\n",
       "      <td>good</td>\n",
       "      <td>4</td>\n",
       "      <td>5</td>\n",
       "      <td>5</td>\n",
       "      <td>6</td>\n",
       "    </tr>\n",
       "    <tr>\n",
       "      <th>2</th>\n",
       "      <td>GP</td>\n",
       "      <td>F</td>\n",
       "      <td>15</td>\n",
       "      <td>U</td>\n",
       "      <td>LE3</td>\n",
       "      <td>T</td>\n",
       "      <td>primary education (4th grade)</td>\n",
       "      <td>primary education (4th grade)</td>\n",
       "      <td>at_home</td>\n",
       "      <td>other</td>\n",
       "      <td>...</td>\n",
       "      <td>very good</td>\n",
       "      <td>medium</td>\n",
       "      <td>low</td>\n",
       "      <td>low</td>\n",
       "      <td>medium</td>\n",
       "      <td>good</td>\n",
       "      <td>10</td>\n",
       "      <td>7</td>\n",
       "      <td>8</td>\n",
       "      <td>10</td>\n",
       "    </tr>\n",
       "  </tbody>\n",
       "</table>\n",
       "<p>3 rows × 33 columns</p>\n",
       "</div>"
      ],
      "text/plain": [
       "  school sex  age address famsize Pstatus                           Medu  \\\n",
       "0     GP   F   18       U     GT3       A               higher education   \n",
       "1     GP   F   17       U     GT3       T  primary education (4th grade)   \n",
       "2     GP   F   15       U     LE3       T  primary education (4th grade)   \n",
       "\n",
       "                            Fedu     Mjob     Fjob  ...     famrel freetime  \\\n",
       "0               higher education  at_home  teacher  ...  very good   medium   \n",
       "1  primary education (4th grade)  at_home    other  ...  excellent   medium   \n",
       "2  primary education (4th grade)  at_home    other  ...  very good   medium   \n",
       "\n",
       "    goout      Dalc      Walc health absences G1 G2  G3  \n",
       "0    high  very low  very low   good        6  5  6   6  \n",
       "1  medium  very low  very low   good        4  5  5   6  \n",
       "2     low       low    medium   good       10  7  8  10  \n",
       "\n",
       "[3 rows x 33 columns]"
      ]
     },
     "execution_count": 101,
     "metadata": {},
     "output_type": "execute_result"
    }
   ],
   "source": [
    "data = pd.read_csv('student.csv')\n",
    "data.head(3)"
   ]
  },
  {
   "cell_type": "markdown",
   "id": "0448acf2",
   "metadata": {},
   "source": [
    "- school"
   ]
  },
  {
   "cell_type": "code",
   "execution_count": 102,
   "id": "4b257edd-b37e-41a3-8c2a-944f2a29ef53",
   "metadata": {},
   "outputs": [
    {
     "data": {
      "text/plain": [
       "0      0\n",
       "1      0\n",
       "2      0\n",
       "3      0\n",
       "4      0\n",
       "      ..\n",
       "390    1\n",
       "391    1\n",
       "392    1\n",
       "393    1\n",
       "394    1\n",
       "Name: school_binary, Length: 395, dtype: int64"
      ]
     },
     "execution_count": 102,
     "metadata": {},
     "output_type": "execute_result"
    }
   ],
   "source": [
    "data['school_binary'] = data['school'].apply(lambda x : 0 if x =='GP' else 1 )\n",
    "data['school_binary']\n"
   ]
  },
  {
   "cell_type": "markdown",
   "id": "79335f9c",
   "metadata": {},
   "source": [
    "- sex"
   ]
  },
  {
   "cell_type": "code",
   "execution_count": 103,
   "id": "8beab086",
   "metadata": {},
   "outputs": [
    {
     "data": {
      "text/plain": [
       "0      0\n",
       "1      0\n",
       "2      0\n",
       "3      0\n",
       "4      0\n",
       "      ..\n",
       "390    1\n",
       "391    1\n",
       "392    1\n",
       "393    1\n",
       "394    1\n",
       "Name: sex_binary, Length: 395, dtype: int64"
      ]
     },
     "execution_count": 103,
     "metadata": {},
     "output_type": "execute_result"
    }
   ],
   "source": [
    "data['sex_binary'] = data['sex'].apply(lambda x : 0 if x =='F' else 1 )\n",
    "data['sex_binary']"
   ]
  },
  {
   "cell_type": "markdown",
   "id": "3186e077",
   "metadata": {},
   "source": [
    "- address"
   ]
  },
  {
   "cell_type": "code",
   "execution_count": 104,
   "id": "866b9242-b406-4fb6-8e90-68fc2a2331e1",
   "metadata": {},
   "outputs": [
    {
     "data": {
      "text/plain": [
       "0      0\n",
       "1      0\n",
       "2      0\n",
       "3      0\n",
       "4      0\n",
       "      ..\n",
       "390    0\n",
       "391    0\n",
       "392    1\n",
       "393    1\n",
       "394    0\n",
       "Name: address_binary, Length: 395, dtype: int64"
      ]
     },
     "execution_count": 104,
     "metadata": {},
     "output_type": "execute_result"
    }
   ],
   "source": [
    "data['address_binary'] = data['address'].apply(lambda x : 0 if x =='U' else 1 )\n",
    "data['address_binary']"
   ]
  },
  {
   "cell_type": "markdown",
   "id": "887f30d0",
   "metadata": {},
   "source": [
    "- famsize"
   ]
  },
  {
   "cell_type": "code",
   "execution_count": 105,
   "id": "932e736a-6659-4509-ac7f-af7427967c1d",
   "metadata": {},
   "outputs": [
    {
     "data": {
      "text/plain": [
       "0      0\n",
       "1      0\n",
       "2      1\n",
       "3      0\n",
       "4      0\n",
       "      ..\n",
       "390    1\n",
       "391    1\n",
       "392    0\n",
       "393    1\n",
       "394    1\n",
       "Name: famsize_binary, Length: 395, dtype: int64"
      ]
     },
     "execution_count": 105,
     "metadata": {},
     "output_type": "execute_result"
    }
   ],
   "source": [
    "data['famsize_binary'] = data['famsize'].apply(lambda x : 0 if x =='GT3' else 1 )\n",
    "data['famsize_binary']"
   ]
  },
  {
   "cell_type": "markdown",
   "id": "9b453e16",
   "metadata": {},
   "source": [
    "- Pstatus"
   ]
  },
  {
   "cell_type": "code",
   "execution_count": 106,
   "id": "dd2bc511",
   "metadata": {},
   "outputs": [
    {
     "data": {
      "text/plain": [
       "0      1\n",
       "1      0\n",
       "2      0\n",
       "3      0\n",
       "4      0\n",
       "      ..\n",
       "390    1\n",
       "391    0\n",
       "392    0\n",
       "393    0\n",
       "394    0\n",
       "Name: Pstatus_binary, Length: 395, dtype: int64"
      ]
     },
     "execution_count": 106,
     "metadata": {},
     "output_type": "execute_result"
    }
   ],
   "source": [
    "data['Pstatus_binary'] = data['Pstatus'].apply(lambda x : 0 if x =='T' else 1 )\n",
    "data['Pstatus_binary']"
   ]
  },
  {
   "cell_type": "markdown",
   "id": "e95ed794",
   "metadata": {},
   "source": [
    "- schoolsup"
   ]
  },
  {
   "cell_type": "code",
   "execution_count": 107,
   "id": "50aba0b6",
   "metadata": {},
   "outputs": [
    {
     "data": {
      "text/plain": [
       "0      0\n",
       "1      1\n",
       "2      0\n",
       "3      1\n",
       "4      1\n",
       "      ..\n",
       "390    1\n",
       "391    1\n",
       "392    1\n",
       "393    1\n",
       "394    1\n",
       "Name: schoolsup_binary, Length: 395, dtype: int64"
      ]
     },
     "execution_count": 107,
     "metadata": {},
     "output_type": "execute_result"
    }
   ],
   "source": [
    "data['schoolsup_binary'] = data['schoolsup'].apply(lambda x : 0 if x =='yes' else 1 )\n",
    "data['schoolsup_binary']"
   ]
  },
  {
   "cell_type": "markdown",
   "id": "a4b71af2",
   "metadata": {},
   "source": [
    "- famsup"
   ]
  },
  {
   "cell_type": "code",
   "execution_count": 108,
   "id": "5bb7fd18",
   "metadata": {},
   "outputs": [
    {
     "data": {
      "text/plain": [
       "0      1\n",
       "1      0\n",
       "2      1\n",
       "3      0\n",
       "4      0\n",
       "      ..\n",
       "390    0\n",
       "391    1\n",
       "392    1\n",
       "393    1\n",
       "394    1\n",
       "Name: famsup_binary, Length: 395, dtype: int64"
      ]
     },
     "execution_count": 108,
     "metadata": {},
     "output_type": "execute_result"
    }
   ],
   "source": [
    "data['famsup_binary'] = data['famsup'].apply(lambda x : 0 if x =='yes' else 1 )\n",
    "data['famsup_binary']"
   ]
  },
  {
   "cell_type": "markdown",
   "id": "21129a60",
   "metadata": {},
   "source": [
    "- paid"
   ]
  },
  {
   "cell_type": "code",
   "execution_count": 109,
   "id": "f0b6564a",
   "metadata": {},
   "outputs": [
    {
     "data": {
      "text/plain": [
       "0      1\n",
       "1      1\n",
       "2      0\n",
       "3      0\n",
       "4      0\n",
       "      ..\n",
       "390    0\n",
       "391    1\n",
       "392    1\n",
       "393    1\n",
       "394    1\n",
       "Name: paid_binary, Length: 395, dtype: int64"
      ]
     },
     "execution_count": 109,
     "metadata": {},
     "output_type": "execute_result"
    }
   ],
   "source": [
    "data['paid_binary'] = data['paid'].apply(lambda x : 0 if x =='yes' else 1 )\n",
    "data['paid_binary']"
   ]
  },
  {
   "cell_type": "markdown",
   "id": "616a1a33",
   "metadata": {},
   "source": [
    "- activities"
   ]
  },
  {
   "cell_type": "code",
   "execution_count": 110,
   "id": "f4d6ae85",
   "metadata": {},
   "outputs": [
    {
     "data": {
      "text/plain": [
       "0      1\n",
       "1      1\n",
       "2      1\n",
       "3      0\n",
       "4      1\n",
       "      ..\n",
       "390    1\n",
       "391    1\n",
       "392    1\n",
       "393    1\n",
       "394    1\n",
       "Name: activities_binary, Length: 395, dtype: int64"
      ]
     },
     "execution_count": 110,
     "metadata": {},
     "output_type": "execute_result"
    }
   ],
   "source": [
    "data['activities_binary'] = data['activities'].apply(lambda x : 0 if x =='yes' else 1 )\n",
    "data['activities_binary']"
   ]
  },
  {
   "cell_type": "markdown",
   "id": "81dfe8d0",
   "metadata": {},
   "source": [
    "- nursery"
   ]
  },
  {
   "cell_type": "code",
   "execution_count": 111,
   "id": "d92ffb52",
   "metadata": {},
   "outputs": [
    {
     "data": {
      "text/plain": [
       "0      0\n",
       "1      1\n",
       "2      0\n",
       "3      0\n",
       "4      0\n",
       "      ..\n",
       "390    0\n",
       "391    1\n",
       "392    1\n",
       "393    1\n",
       "394    0\n",
       "Name: nursery_binary, Length: 395, dtype: int64"
      ]
     },
     "execution_count": 111,
     "metadata": {},
     "output_type": "execute_result"
    }
   ],
   "source": [
    "data['nursery_binary'] = data['nursery'].apply(lambda x : 0 if x =='yes' else 1 )\n",
    "data['nursery_binary']"
   ]
  },
  {
   "cell_type": "markdown",
   "id": "00591608",
   "metadata": {},
   "source": [
    "- higher"
   ]
  },
  {
   "cell_type": "code",
   "execution_count": 112,
   "id": "794c7e17",
   "metadata": {},
   "outputs": [
    {
     "data": {
      "text/plain": [
       "0      0\n",
       "1      0\n",
       "2      0\n",
       "3      0\n",
       "4      0\n",
       "      ..\n",
       "390    0\n",
       "391    0\n",
       "392    0\n",
       "393    0\n",
       "394    0\n",
       "Name: higher_binary, Length: 395, dtype: int64"
      ]
     },
     "execution_count": 112,
     "metadata": {},
     "output_type": "execute_result"
    }
   ],
   "source": [
    "data['higher_binary'] = data['higher'].apply(lambda x : 0 if x =='yes' else 1 )\n",
    "data['higher_binary']"
   ]
  },
  {
   "cell_type": "markdown",
   "id": "c0f3ea04",
   "metadata": {},
   "source": [
    "- internet"
   ]
  },
  {
   "cell_type": "code",
   "execution_count": 113,
   "id": "74dc183f",
   "metadata": {},
   "outputs": [
    {
     "data": {
      "text/plain": [
       "0      1\n",
       "1      0\n",
       "2      0\n",
       "3      0\n",
       "4      1\n",
       "      ..\n",
       "390    1\n",
       "391    0\n",
       "392    1\n",
       "393    0\n",
       "394    0\n",
       "Name: internet_binary, Length: 395, dtype: int64"
      ]
     },
     "execution_count": 113,
     "metadata": {},
     "output_type": "execute_result"
    }
   ],
   "source": [
    "data['internet_binary'] = data['internet'].apply(lambda x : 0 if x =='yes' else 1 )\n",
    "data['internet_binary']"
   ]
  },
  {
   "cell_type": "markdown",
   "id": "2d66e30e",
   "metadata": {},
   "source": [
    "- romantic"
   ]
  },
  {
   "cell_type": "code",
   "execution_count": 114,
   "id": "80e61068",
   "metadata": {},
   "outputs": [
    {
     "data": {
      "text/plain": [
       "0      1\n",
       "1      1\n",
       "2      1\n",
       "3      0\n",
       "4      1\n",
       "      ..\n",
       "390    1\n",
       "391    1\n",
       "392    1\n",
       "393    1\n",
       "394    1\n",
       "Name: romantic_binary, Length: 395, dtype: int64"
      ]
     },
     "execution_count": 114,
     "metadata": {},
     "output_type": "execute_result"
    }
   ],
   "source": [
    "data['romantic_binary'] = data['romantic'].apply(lambda x : 0 if x =='yes' else 1 )\n",
    "data['romantic_binary']"
   ]
  },
  {
   "cell_type": "markdown",
   "id": "6f4cac9c",
   "metadata": {},
   "source": [
    "## b) Medu, Fedu, Mjob, Fjob, reason, guardian, traveltime, studytime, famrel, freetime, gout, Dalc, Walc and health into ordinal numbers based on number of cases in the data set (create new columns without overwriting the existing ones)"
   ]
  },
  {
   "cell_type": "markdown",
   "id": "0f00cfa4",
   "metadata": {},
   "source": [
    "- Medu"
   ]
  },
  {
   "cell_type": "code",
   "execution_count": 115,
   "id": "9493d2c7",
   "metadata": {},
   "outputs": [
    {
     "data": {
      "text/plain": [
       "higher education                 1\n",
       "primary education (4th grade)    2\n",
       "secondary education              3\n",
       "5th to 9th grade                 4\n",
       "none                             5\n",
       "dtype: int64"
      ]
     },
     "execution_count": 115,
     "metadata": {},
     "output_type": "execute_result"
    }
   ],
   "source": [
    "'''find unique values of Medu and create a series to assign ordinal numbers to those unique values'''\n",
    "unique_medu_val = data['Medu'].unique()\n",
    "unique_series = pd.Series(np.arange(1,(len(unique_medu_val) + 1)),index = unique_medu_val)\n",
    "unique_series"
   ]
  },
  {
   "cell_type": "code",
   "execution_count": 116,
   "id": "2a88484b",
   "metadata": {},
   "outputs": [
    {
     "data": {
      "text/plain": [
       "0      1\n",
       "1      2\n",
       "2      2\n",
       "3      1\n",
       "4      3\n",
       "      ..\n",
       "390    4\n",
       "391    3\n",
       "392    2\n",
       "393    3\n",
       "394    2\n",
       "Name: medu_ordinal, Length: 395, dtype: int64"
      ]
     },
     "execution_count": 116,
     "metadata": {},
     "output_type": "execute_result"
    }
   ],
   "source": [
    "data['medu_ordinal'] = data['Medu'].apply(lambda x : unique_series[x])\n",
    "data['medu_ordinal']"
   ]
  },
  {
   "cell_type": "markdown",
   "id": "154d4f6a",
   "metadata": {},
   "source": [
    "- Fedu"
   ]
  },
  {
   "cell_type": "code",
   "execution_count": 117,
   "id": "e986a89b",
   "metadata": {},
   "outputs": [
    {
     "data": {
      "text/plain": [
       "higher education                 1\n",
       "primary education (4th grade)    2\n",
       "5th to 9th grade                 3\n",
       "secondary education              4\n",
       "none                             5\n",
       "dtype: int64"
      ]
     },
     "execution_count": 117,
     "metadata": {},
     "output_type": "execute_result"
    }
   ],
   "source": [
    "unique_fedu_val = data['Fedu'].unique()\n",
    "unique_series = pd.Series(np.arange(1,(len(unique_medu_val) + 1)),index = unique_fedu_val)\n",
    "unique_series"
   ]
  },
  {
   "cell_type": "code",
   "execution_count": 118,
   "id": "5faf0144",
   "metadata": {},
   "outputs": [
    {
     "data": {
      "text/plain": [
       "0      1\n",
       "1      2\n",
       "2      2\n",
       "3      3\n",
       "4      4\n",
       "      ..\n",
       "390    3\n",
       "391    2\n",
       "392    2\n",
       "393    3\n",
       "394    2\n",
       "Name: fedu_ordinal, Length: 395, dtype: int64"
      ]
     },
     "execution_count": 118,
     "metadata": {},
     "output_type": "execute_result"
    }
   ],
   "source": [
    "\n",
    "data['fedu_ordinal'] = data['Fedu'].apply(lambda x : unique_series[x])\n",
    "data['fedu_ordinal']"
   ]
  },
  {
   "cell_type": "markdown",
   "id": "0f2e415f",
   "metadata": {},
   "source": [
    "- Mjob"
   ]
  },
  {
   "cell_type": "code",
   "execution_count": 119,
   "id": "0f0ca087",
   "metadata": {},
   "outputs": [
    {
     "data": {
      "text/plain": [
       "at_home     1\n",
       "health      2\n",
       "other       3\n",
       "services    4\n",
       "teacher     5\n",
       "dtype: int64"
      ]
     },
     "execution_count": 119,
     "metadata": {},
     "output_type": "execute_result"
    }
   ],
   "source": [
    "unique_mjob_val = data['Mjob'].unique()\n",
    "unique_series = pd.Series(np.arange(1,(len(unique_mjob_val) + 1)),index = unique_mjob_val)\n",
    "unique_series\n"
   ]
  },
  {
   "cell_type": "code",
   "execution_count": 120,
   "id": "0452808c",
   "metadata": {},
   "outputs": [
    {
     "data": {
      "text/plain": [
       "0      1\n",
       "1      1\n",
       "2      1\n",
       "3      2\n",
       "4      3\n",
       "      ..\n",
       "390    4\n",
       "391    4\n",
       "392    3\n",
       "393    4\n",
       "394    3\n",
       "Name: Mjob_ordinal, Length: 395, dtype: int64"
      ]
     },
     "execution_count": 120,
     "metadata": {},
     "output_type": "execute_result"
    }
   ],
   "source": [
    "data['Mjob_ordinal'] = data['Mjob'].apply(lambda x : unique_series[x])\n",
    "data['Mjob_ordinal']"
   ]
  },
  {
   "cell_type": "markdown",
   "id": "af314b8a",
   "metadata": {},
   "source": [
    "- Fjob"
   ]
  },
  {
   "cell_type": "code",
   "execution_count": 121,
   "id": "fdc0313a",
   "metadata": {},
   "outputs": [
    {
     "data": {
      "text/plain": [
       "teacher     1\n",
       "other       2\n",
       "services    3\n",
       "health      4\n",
       "at_home     5\n",
       "dtype: int64"
      ]
     },
     "execution_count": 121,
     "metadata": {},
     "output_type": "execute_result"
    }
   ],
   "source": [
    "unique_Fjob_val = data['Fjob'].unique()\n",
    "unique_series = pd.Series(np.arange(1,(len(unique_Fjob_val) + 1)),index = unique_Fjob_val)\n",
    "unique_series"
   ]
  },
  {
   "cell_type": "code",
   "execution_count": 122,
   "id": "6f551f11",
   "metadata": {},
   "outputs": [
    {
     "data": {
      "text/plain": [
       "0      1\n",
       "1      2\n",
       "2      2\n",
       "3      3\n",
       "4      2\n",
       "      ..\n",
       "390    3\n",
       "391    3\n",
       "392    2\n",
       "393    2\n",
       "394    5\n",
       "Name: Fjob_ordinal, Length: 395, dtype: int64"
      ]
     },
     "execution_count": 122,
     "metadata": {},
     "output_type": "execute_result"
    }
   ],
   "source": [
    "data['Fjob_ordinal'] = data['Fjob'].apply(lambda x : unique_series[x])\n",
    "data['Fjob_ordinal']"
   ]
  },
  {
   "cell_type": "markdown",
   "id": "36516325",
   "metadata": {},
   "source": [
    "- reason"
   ]
  },
  {
   "cell_type": "code",
   "execution_count": 123,
   "id": "9c2cc747",
   "metadata": {},
   "outputs": [
    {
     "data": {
      "text/plain": [
       "course        1\n",
       "other         2\n",
       "home          3\n",
       "reputation    4\n",
       "dtype: int64"
      ]
     },
     "execution_count": 123,
     "metadata": {},
     "output_type": "execute_result"
    }
   ],
   "source": [
    "unique_reason_val = data['reason'].unique()\n",
    "unique_series = pd.Series(np.arange(1,(len(unique_reason_val) + 1)),index = unique_reason_val)\n",
    "unique_series"
   ]
  },
  {
   "cell_type": "code",
   "execution_count": 124,
   "id": "c7292024",
   "metadata": {},
   "outputs": [
    {
     "data": {
      "text/plain": [
       "0      1\n",
       "1      1\n",
       "2      2\n",
       "3      3\n",
       "4      3\n",
       "      ..\n",
       "390    1\n",
       "391    1\n",
       "392    1\n",
       "393    1\n",
       "394    1\n",
       "Name: reason_ordinal, Length: 395, dtype: int64"
      ]
     },
     "execution_count": 124,
     "metadata": {},
     "output_type": "execute_result"
    }
   ],
   "source": [
    "data['reason_ordinal'] = data['reason'].apply(lambda x : unique_series[x])\n",
    "data['reason_ordinal']"
   ]
  },
  {
   "cell_type": "markdown",
   "id": "855a0ee3",
   "metadata": {},
   "source": [
    "- guardian"
   ]
  },
  {
   "cell_type": "code",
   "execution_count": 125,
   "id": "88c2d09f",
   "metadata": {},
   "outputs": [
    {
     "data": {
      "text/plain": [
       "mother    1\n",
       "father    2\n",
       "other     3\n",
       "dtype: int64"
      ]
     },
     "execution_count": 125,
     "metadata": {},
     "output_type": "execute_result"
    }
   ],
   "source": [
    "unique_guardian_val = data['guardian'].unique()\n",
    "unique_series = pd.Series(np.arange(1,(len(unique_guardian_val) + 1)),index = unique_guardian_val)\n",
    "unique_series"
   ]
  },
  {
   "cell_type": "code",
   "execution_count": 126,
   "id": "ce1d2aca",
   "metadata": {},
   "outputs": [
    {
     "data": {
      "text/plain": [
       "0      1\n",
       "1      2\n",
       "2      1\n",
       "3      1\n",
       "4      2\n",
       "      ..\n",
       "390    3\n",
       "391    1\n",
       "392    3\n",
       "393    1\n",
       "394    2\n",
       "Name: guardian_ordinal, Length: 395, dtype: int64"
      ]
     },
     "execution_count": 126,
     "metadata": {},
     "output_type": "execute_result"
    }
   ],
   "source": [
    "data['guardian_ordinal'] = data['guardian'].apply(lambda x : unique_series[x])\n",
    "data['guardian_ordinal']"
   ]
  },
  {
   "cell_type": "markdown",
   "id": "577ef265",
   "metadata": {},
   "source": [
    "- studytime"
   ]
  },
  {
   "cell_type": "code",
   "execution_count": 127,
   "id": "547fadc1",
   "metadata": {},
   "outputs": [
    {
     "data": {
      "text/plain": [
       "2 to 5 hours     1\n",
       "5 to 10 hours    2\n",
       "<2 hours         3\n",
       ">10 hours        4\n",
       "dtype: int64"
      ]
     },
     "execution_count": 127,
     "metadata": {},
     "output_type": "execute_result"
    }
   ],
   "source": [
    "unique_studytime_val = data['studytime'].unique()\n",
    "unique_series = pd.Series(np.arange(1,(len(unique_studytime_val) + 1)),index = unique_studytime_val)\n",
    "unique_series"
   ]
  },
  {
   "cell_type": "code",
   "execution_count": 128,
   "id": "90a9cc6f",
   "metadata": {},
   "outputs": [
    {
     "data": {
      "text/plain": [
       "0      1\n",
       "1      1\n",
       "2      1\n",
       "3      2\n",
       "4      1\n",
       "      ..\n",
       "390    1\n",
       "391    3\n",
       "392    3\n",
       "393    3\n",
       "394    3\n",
       "Name: studytime_ordinal, Length: 395, dtype: int64"
      ]
     },
     "execution_count": 128,
     "metadata": {},
     "output_type": "execute_result"
    }
   ],
   "source": [
    "data['studytime_ordinal'] = data['studytime'].apply(lambda x : unique_series[x])\n",
    "data['studytime_ordinal']"
   ]
  },
  {
   "cell_type": "markdown",
   "id": "9a7a55ce",
   "metadata": {},
   "source": [
    "- traveltime"
   ]
  },
  {
   "cell_type": "code",
   "execution_count": 129,
   "id": "ef0549b0",
   "metadata": {},
   "outputs": [
    {
     "data": {
      "text/plain": [
       "15 to 30 min.        1\n",
       "<15 min.             2\n",
       "30 min. to 1 hour    3\n",
       ">1 hour              4\n",
       "dtype: int64"
      ]
     },
     "execution_count": 129,
     "metadata": {},
     "output_type": "execute_result"
    }
   ],
   "source": [
    "unique_traveltime_val = data['traveltime'].unique()\n",
    "unique_series = pd.Series(np.arange(1,(len(unique_traveltime_val) + 1)),index = unique_traveltime_val)\n",
    "unique_series"
   ]
  },
  {
   "cell_type": "code",
   "execution_count": 130,
   "id": "7304e5cf",
   "metadata": {},
   "outputs": [
    {
     "data": {
      "text/plain": [
       "0      1\n",
       "1      2\n",
       "2      2\n",
       "3      2\n",
       "4      2\n",
       "      ..\n",
       "390    2\n",
       "391    1\n",
       "392    2\n",
       "393    3\n",
       "394    2\n",
       "Name: traveltime_ordinal, Length: 395, dtype: int64"
      ]
     },
     "execution_count": 130,
     "metadata": {},
     "output_type": "execute_result"
    }
   ],
   "source": [
    "data['traveltime_ordinal'] = data['traveltime'].apply(lambda x : unique_series[x])\n",
    "data['traveltime_ordinal']"
   ]
  },
  {
   "cell_type": "markdown",
   "id": "e35a2a7c",
   "metadata": {},
   "source": [
    "- famrel"
   ]
  },
  {
   "cell_type": "code",
   "execution_count": 131,
   "id": "e79e33fe",
   "metadata": {},
   "outputs": [
    {
     "data": {
      "text/plain": [
       "very good    1\n",
       "excellent    2\n",
       "good         3\n",
       "very bad     4\n",
       "bad          5\n",
       "dtype: int64"
      ]
     },
     "execution_count": 131,
     "metadata": {},
     "output_type": "execute_result"
    }
   ],
   "source": [
    "unique_famrel_val = data['famrel'].unique()\n",
    "unique_series = pd.Series(np.arange(1,(len(unique_famrel_val) + 1)),index = unique_famrel_val)\n",
    "unique_series"
   ]
  },
  {
   "cell_type": "code",
   "execution_count": 132,
   "id": "ea8785e9",
   "metadata": {},
   "outputs": [
    {
     "data": {
      "text/plain": [
       "0      1\n",
       "1      2\n",
       "2      1\n",
       "3      3\n",
       "4      1\n",
       "      ..\n",
       "390    2\n",
       "391    5\n",
       "392    2\n",
       "393    1\n",
       "394    3\n",
       "Name: famrel_ordinal, Length: 395, dtype: int64"
      ]
     },
     "execution_count": 132,
     "metadata": {},
     "output_type": "execute_result"
    }
   ],
   "source": [
    "data['famrel_ordinal'] = data['famrel'].apply(lambda x : unique_series[x])\n",
    "data['famrel_ordinal']"
   ]
  },
  {
   "cell_type": "markdown",
   "id": "a80a8016",
   "metadata": {},
   "source": [
    "- freetime"
   ]
  },
  {
   "cell_type": "code",
   "execution_count": 133,
   "id": "553a889c",
   "metadata": {},
   "outputs": [
    {
     "data": {
      "text/plain": [
       "medium       1\n",
       "low          2\n",
       "high         3\n",
       "very low     4\n",
       "very high    5\n",
       "dtype: int64"
      ]
     },
     "execution_count": 133,
     "metadata": {},
     "output_type": "execute_result"
    }
   ],
   "source": [
    "unique_freetime_val = data['freetime'].unique()\n",
    "unique_series = pd.Series(np.arange(1,(len(unique_freetime_val) + 1)),index = unique_freetime_val)\n",
    "unique_series"
   ]
  },
  {
   "cell_type": "code",
   "execution_count": 134,
   "id": "954d6b54",
   "metadata": {},
   "outputs": [
    {
     "data": {
      "text/plain": [
       "0      1\n",
       "1      1\n",
       "2      1\n",
       "3      2\n",
       "4      1\n",
       "      ..\n",
       "390    5\n",
       "391    3\n",
       "392    5\n",
       "393    3\n",
       "394    2\n",
       "Name: freetime_ordinal, Length: 395, dtype: int64"
      ]
     },
     "execution_count": 134,
     "metadata": {},
     "output_type": "execute_result"
    }
   ],
   "source": [
    "data['freetime_ordinal'] = data['freetime'].apply(lambda x : unique_series[x])\n",
    "data['freetime_ordinal']"
   ]
  },
  {
   "cell_type": "markdown",
   "id": "a6b71a95",
   "metadata": {},
   "source": [
    "- gout"
   ]
  },
  {
   "cell_type": "code",
   "execution_count": 135,
   "id": "95e679e2",
   "metadata": {},
   "outputs": [
    {
     "data": {
      "text/plain": [
       "high         1\n",
       "medium       2\n",
       "low          3\n",
       "very low     4\n",
       "very high    5\n",
       "dtype: int64"
      ]
     },
     "execution_count": 135,
     "metadata": {},
     "output_type": "execute_result"
    }
   ],
   "source": [
    "unique_goout_val = data['goout'].unique()\n",
    "unique_series = pd.Series(np.arange(1,(len(unique_goout_val) + 1)),index = unique_goout_val)\n",
    "unique_series"
   ]
  },
  {
   "cell_type": "code",
   "execution_count": 136,
   "id": "b8f2a538",
   "metadata": {},
   "outputs": [
    {
     "data": {
      "text/plain": [
       "0      1\n",
       "1      2\n",
       "2      3\n",
       "3      3\n",
       "4      3\n",
       "      ..\n",
       "390    1\n",
       "391    5\n",
       "392    2\n",
       "393    4\n",
       "394    2\n",
       "Name: goout_ordinal, Length: 395, dtype: int64"
      ]
     },
     "execution_count": 136,
     "metadata": {},
     "output_type": "execute_result"
    }
   ],
   "source": [
    "data['goout_ordinal'] = data['goout'].apply(lambda x : unique_series[x])\n",
    "data['goout_ordinal']"
   ]
  },
  {
   "cell_type": "markdown",
   "id": "2ac88ebe",
   "metadata": {},
   "source": [
    "- Dalc"
   ]
  },
  {
   "cell_type": "code",
   "execution_count": 137,
   "id": "0a6d8c08",
   "metadata": {},
   "outputs": [
    {
     "data": {
      "text/plain": [
       "very low     1\n",
       "low          2\n",
       "very high    3\n",
       "medium       4\n",
       "high         5\n",
       "dtype: int64"
      ]
     },
     "execution_count": 137,
     "metadata": {},
     "output_type": "execute_result"
    }
   ],
   "source": [
    "unique_Dalc_val = data['Dalc'].unique()\n",
    "unique_series = pd.Series(np.arange(1,(len(unique_Dalc_val) + 1)),index = unique_Dalc_val)\n",
    "unique_series"
   ]
  },
  {
   "cell_type": "code",
   "execution_count": 138,
   "id": "7f3353d2",
   "metadata": {},
   "outputs": [
    {
     "data": {
      "text/plain": [
       "0      1\n",
       "1      1\n",
       "2      2\n",
       "3      1\n",
       "4      1\n",
       "      ..\n",
       "390    5\n",
       "391    4\n",
       "392    4\n",
       "393    4\n",
       "394    4\n",
       "Name: Dalc_ordinal, Length: 395, dtype: int64"
      ]
     },
     "execution_count": 138,
     "metadata": {},
     "output_type": "execute_result"
    }
   ],
   "source": [
    "data['Dalc_ordinal'] = data['Dalc'].apply(lambda x : unique_series[x])\n",
    "data['Dalc_ordinal']"
   ]
  },
  {
   "cell_type": "markdown",
   "id": "fd8c5cbe",
   "metadata": {},
   "source": [
    "- Walc"
   ]
  },
  {
   "cell_type": "code",
   "execution_count": 139,
   "id": "8916445c",
   "metadata": {},
   "outputs": [
    {
     "data": {
      "text/plain": [
       "very low     1\n",
       "medium       2\n",
       "low          3\n",
       "high         4\n",
       "very high    5\n",
       "dtype: int64"
      ]
     },
     "execution_count": 139,
     "metadata": {},
     "output_type": "execute_result"
    }
   ],
   "source": [
    "unique_Walc_val = data['Walc'].unique()\n",
    "unique_series = pd.Series(np.arange(1,(len(unique_Walc_val) + 1)),index = unique_Walc_val)\n",
    "unique_series"
   ]
  },
  {
   "cell_type": "code",
   "execution_count": 140,
   "id": "5c0ea308",
   "metadata": {},
   "outputs": [
    {
     "data": {
      "text/plain": [
       "0      1\n",
       "1      1\n",
       "2      2\n",
       "3      1\n",
       "4      3\n",
       "      ..\n",
       "390    5\n",
       "391    4\n",
       "392    2\n",
       "393    4\n",
       "394    2\n",
       "Name: Walc_ordinal, Length: 395, dtype: int64"
      ]
     },
     "execution_count": 140,
     "metadata": {},
     "output_type": "execute_result"
    }
   ],
   "source": [
    "data['Walc_ordinal'] = data['Walc'].apply(lambda x : unique_series[x])\n",
    "data['Walc_ordinal']"
   ]
  },
  {
   "cell_type": "markdown",
   "id": "59d1dea0",
   "metadata": {},
   "source": [
    "- health"
   ]
  },
  {
   "cell_type": "code",
   "execution_count": 141,
   "id": "d7577c4d",
   "metadata": {},
   "outputs": [
    {
     "data": {
      "text/plain": [
       "good         1\n",
       "excellent    2\n",
       "very bad     3\n",
       "bad          4\n",
       "very good    5\n",
       "dtype: int64"
      ]
     },
     "execution_count": 141,
     "metadata": {},
     "output_type": "execute_result"
    }
   ],
   "source": [
    "unique_health_val = data['health'].unique()\n",
    "unique_series = pd.Series(np.arange(1,(len(unique_health_val) + 1)),index = unique_health_val)\n",
    "unique_series"
   ]
  },
  {
   "cell_type": "code",
   "execution_count": 142,
   "id": "e742daeb",
   "metadata": {},
   "outputs": [
    {
     "data": {
      "text/plain": [
       "0      1\n",
       "1      1\n",
       "2      1\n",
       "3      2\n",
       "4      2\n",
       "      ..\n",
       "390    5\n",
       "391    4\n",
       "392    1\n",
       "393    2\n",
       "394    2\n",
       "Name: health_ordinal, Length: 395, dtype: int64"
      ]
     },
     "execution_count": 142,
     "metadata": {},
     "output_type": "execute_result"
    }
   ],
   "source": [
    "data['health_ordinal'] = data['health'].apply(lambda x : unique_series[x])\n",
    "data['health_ordinal']"
   ]
  },
  {
   "cell_type": "markdown",
   "id": "2701d1ee",
   "metadata": {},
   "source": [
    " ## c) create a new column named age_category whose values should be based on the values in the age column, divide the values into 3 ordinal numbers; 1 – 15 to 17, 2 – 18 to 20, 3 – 21 and over"
   ]
  },
  {
   "cell_type": "code",
   "execution_count": 143,
   "id": "0e528ffb",
   "metadata": {},
   "outputs": [
    {
     "data": {
      "text/plain": [
       "array([18, 17, 15, 16, 19, 22, 20, 21])"
      ]
     },
     "execution_count": 143,
     "metadata": {},
     "output_type": "execute_result"
    }
   ],
   "source": [
    "''' unique_age_val store the unique continue ages'''\n",
    "unique_age_val = data['age'].unique()\n",
    "unique_age_val"
   ]
  },
  {
   "cell_type": "code",
   "execution_count": 144,
   "id": "6c1fca29",
   "metadata": {},
   "outputs": [
    {
     "data": {
      "text/plain": [
       "0      2\n",
       "1      1\n",
       "2      1\n",
       "3      1\n",
       "4      1\n",
       "      ..\n",
       "390    2\n",
       "391    1\n",
       "392    3\n",
       "393    2\n",
       "394    2\n",
       "Name: age_category, Length: 395, dtype: category\n",
       "Categories (3, int64): [1 < 2 < 3]"
      ]
     },
     "execution_count": 144,
     "metadata": {},
     "output_type": "execute_result"
    }
   ],
   "source": [
    "'''Based on the unique_age_val values 4 bins are created and 3 corresponding labels are created. The labels are related to the age group bins in the following ways :\n",
    "1 : 15 - 17\n",
    "2 : 18 - 20\n",
    "3 : 21 and above\n",
    "'''\n",
    "data['age_category'] = pd.cut(data['age'], bins=[15,18,21,22], labels=[1,2,3], right=False)\n",
    "data['age_category']"
   ]
  },
  {
   "cell_type": "markdown",
   "id": "414fc0d1",
   "metadata": {},
   "source": [
    "## d) create a new column named passed (yes or no) whose values should be based on the values present in the G3 column (>=8 – yes, <8 – no)"
   ]
  },
  {
   "cell_type": "code",
   "execution_count": 145,
   "id": "8ac7cb96",
   "metadata": {},
   "outputs": [
    {
     "data": {
      "text/plain": [
       "0       no\n",
       "1       no\n",
       "2      yes\n",
       "3      yes\n",
       "4      yes\n",
       "      ... \n",
       "390    yes\n",
       "391    yes\n",
       "392     no\n",
       "393    yes\n",
       "394    yes\n",
       "Name: passed, Length: 395, dtype: object"
      ]
     },
     "execution_count": 145,
     "metadata": {},
     "output_type": "execute_result"
    }
   ],
   "source": [
    "data['passed'] = data['G3'].apply(lambda x : 'yes' if x>=8 else 'no')\n",
    "data['passed']"
   ]
  }
 ],
 "metadata": {
  "kernelspec": {
   "display_name": "Python 3",
   "language": "python",
   "name": "python3"
  },
  "language_info": {
   "codemirror_mode": {
    "name": "ipython",
    "version": 3
   },
   "file_extension": ".py",
   "mimetype": "text/x-python",
   "name": "python",
   "nbconvert_exporter": "python",
   "pygments_lexer": "ipython3",
   "version": "3.8.8"
  }
 },
 "nbformat": 4,
 "nbformat_minor": 5
}
