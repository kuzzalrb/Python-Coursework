{
 "cells": [
  {
   "cell_type": "markdown",
   "id": "d9187fb9",
   "metadata": {},
   "source": [
    "## 2. Data Transformation\n"
   ]
  },
  {
   "cell_type": "markdown",
   "id": "445a230e",
   "metadata": {},
   "source": [
    "#### Write code to transform variables according to the following guidelines:\n",
    "\n"
   ]
  },
  {
   "cell_type": "markdown",
   "id": "515e3474",
   "metadata": {},
   "source": [
    "#### a) school, sex, address, famsize, Pstatus, schoolsup, famsup, paid, activities, nursery, higher, internet and romantic into binary; 0 or 1 (create new columns without overwriting the existing ones)"
   ]
  },
  {
   "cell_type": "code",
   "execution_count": 1,
   "id": "9523cf77",
   "metadata": {},
   "outputs": [],
   "source": [
    "import pandas as pd\n",
    "import numpy as np"
   ]
  },
  {
   "cell_type": "code",
   "execution_count": 2,
   "id": "7bbc4535-42f8-4a40-acca-2230d78731de",
   "metadata": {},
   "outputs": [
    {
     "data": {
      "text/plain": [
       "pandas.core.frame.DataFrame"
      ]
     },
     "execution_count": 2,
     "metadata": {},
     "output_type": "execute_result"
    }
   ],
   "source": [
    "data = pd.read_csv('student.csv')\n",
    "data.head(3)\n",
    "type(data)"
   ]
  },
  {
   "cell_type": "markdown",
   "id": "0448acf2",
   "metadata": {},
   "source": [
    "- school"
   ]
  },
  {
   "cell_type": "code",
   "execution_count": 3,
   "id": "4b257edd-b37e-41a3-8c2a-944f2a29ef53",
   "metadata": {},
   "outputs": [
    {
     "data": {
      "text/plain": [
       "0      0\n",
       "1      0\n",
       "2      0\n",
       "3      0\n",
       "4      0\n",
       "      ..\n",
       "390    1\n",
       "391    1\n",
       "392    1\n",
       "393    1\n",
       "394    1\n",
       "Name: school_binary, Length: 395, dtype: int64"
      ]
     },
     "execution_count": 3,
     "metadata": {},
     "output_type": "execute_result"
    }
   ],
   "source": [
    "data['school_binary'] = data['school'].apply(lambda x : 0 if x =='GP' else 1 )\n",
    "data['school_binary']\n"
   ]
  },
  {
   "cell_type": "markdown",
   "id": "79335f9c",
   "metadata": {},
   "source": [
    "- sex"
   ]
  },
  {
   "cell_type": "code",
   "execution_count": 4,
   "id": "8beab086",
   "metadata": {},
   "outputs": [
    {
     "data": {
      "text/plain": [
       "0      0\n",
       "1      0\n",
       "2      0\n",
       "3      0\n",
       "4      0\n",
       "      ..\n",
       "390    1\n",
       "391    1\n",
       "392    1\n",
       "393    1\n",
       "394    1\n",
       "Name: sex_binary, Length: 395, dtype: int64"
      ]
     },
     "execution_count": 4,
     "metadata": {},
     "output_type": "execute_result"
    }
   ],
   "source": [
    "data['sex_binary'] = data['sex'].apply(lambda x : 0 if x =='F' else 1 )\n",
    "data['sex_binary']"
   ]
  },
  {
   "cell_type": "markdown",
   "id": "3186e077",
   "metadata": {},
   "source": [
    "- address"
   ]
  },
  {
   "cell_type": "code",
   "execution_count": 5,
   "id": "866b9242-b406-4fb6-8e90-68fc2a2331e1",
   "metadata": {},
   "outputs": [
    {
     "data": {
      "text/plain": [
       "0      0\n",
       "1      0\n",
       "2      0\n",
       "3      0\n",
       "4      0\n",
       "      ..\n",
       "390    0\n",
       "391    0\n",
       "392    1\n",
       "393    1\n",
       "394    0\n",
       "Name: address_binary, Length: 395, dtype: int64"
      ]
     },
     "execution_count": 5,
     "metadata": {},
     "output_type": "execute_result"
    }
   ],
   "source": [
    "data['address_binary'] = data['address'].apply(lambda x : 0 if x =='U' else 1 )\n",
    "data['address_binary']"
   ]
  },
  {
   "cell_type": "markdown",
   "id": "887f30d0",
   "metadata": {},
   "source": [
    "- famsize"
   ]
  },
  {
   "cell_type": "code",
   "execution_count": 6,
   "id": "932e736a-6659-4509-ac7f-af7427967c1d",
   "metadata": {},
   "outputs": [
    {
     "data": {
      "text/plain": [
       "0      0\n",
       "1      0\n",
       "2      1\n",
       "3      0\n",
       "4      0\n",
       "      ..\n",
       "390    1\n",
       "391    1\n",
       "392    0\n",
       "393    1\n",
       "394    1\n",
       "Name: famsize_binary, Length: 395, dtype: int64"
      ]
     },
     "execution_count": 6,
     "metadata": {},
     "output_type": "execute_result"
    }
   ],
   "source": [
    "data['famsize_binary'] = data['famsize'].apply(lambda x : 0 if x =='GT3' else 1 )\n",
    "data['famsize_binary']"
   ]
  },
  {
   "cell_type": "markdown",
   "id": "9b453e16",
   "metadata": {},
   "source": [
    "- Pstatus"
   ]
  },
  {
   "cell_type": "code",
   "execution_count": 7,
   "id": "dd2bc511",
   "metadata": {},
   "outputs": [
    {
     "data": {
      "text/plain": [
       "0      1\n",
       "1      0\n",
       "2      0\n",
       "3      0\n",
       "4      0\n",
       "      ..\n",
       "390    1\n",
       "391    0\n",
       "392    0\n",
       "393    0\n",
       "394    0\n",
       "Name: Pstatus_binary, Length: 395, dtype: int64"
      ]
     },
     "execution_count": 7,
     "metadata": {},
     "output_type": "execute_result"
    }
   ],
   "source": [
    "data['Pstatus_binary'] = data['Pstatus'].apply(lambda x : 0 if x =='T' else 1 )\n",
    "data['Pstatus_binary']"
   ]
  },
  {
   "cell_type": "markdown",
   "id": "e95ed794",
   "metadata": {},
   "source": [
    "- schoolsup"
   ]
  },
  {
   "cell_type": "code",
   "execution_count": 8,
   "id": "50aba0b6",
   "metadata": {},
   "outputs": [
    {
     "data": {
      "text/plain": [
       "0      0\n",
       "1      1\n",
       "2      0\n",
       "3      1\n",
       "4      1\n",
       "      ..\n",
       "390    1\n",
       "391    1\n",
       "392    1\n",
       "393    1\n",
       "394    1\n",
       "Name: schoolsup_binary, Length: 395, dtype: int64"
      ]
     },
     "execution_count": 8,
     "metadata": {},
     "output_type": "execute_result"
    }
   ],
   "source": [
    "data['schoolsup_binary'] = data['schoolsup'].apply(lambda x : 0 if x =='yes' else 1 )\n",
    "data['schoolsup_binary']"
   ]
  },
  {
   "cell_type": "markdown",
   "id": "a4b71af2",
   "metadata": {},
   "source": [
    "- famsup"
   ]
  },
  {
   "cell_type": "code",
   "execution_count": 9,
   "id": "5bb7fd18",
   "metadata": {},
   "outputs": [
    {
     "data": {
      "text/plain": [
       "0      1\n",
       "1      0\n",
       "2      1\n",
       "3      0\n",
       "4      0\n",
       "      ..\n",
       "390    0\n",
       "391    1\n",
       "392    1\n",
       "393    1\n",
       "394    1\n",
       "Name: famsup_binary, Length: 395, dtype: int64"
      ]
     },
     "execution_count": 9,
     "metadata": {},
     "output_type": "execute_result"
    }
   ],
   "source": [
    "data['famsup_binary'] = data['famsup'].apply(lambda x : 0 if x =='yes' else 1 )\n",
    "data['famsup_binary']"
   ]
  },
  {
   "cell_type": "markdown",
   "id": "21129a60",
   "metadata": {},
   "source": [
    "- paid"
   ]
  },
  {
   "cell_type": "code",
   "execution_count": 10,
   "id": "f0b6564a",
   "metadata": {},
   "outputs": [
    {
     "data": {
      "text/plain": [
       "0      1\n",
       "1      1\n",
       "2      0\n",
       "3      0\n",
       "4      0\n",
       "      ..\n",
       "390    0\n",
       "391    1\n",
       "392    1\n",
       "393    1\n",
       "394    1\n",
       "Name: paid_binary, Length: 395, dtype: int64"
      ]
     },
     "execution_count": 10,
     "metadata": {},
     "output_type": "execute_result"
    }
   ],
   "source": [
    "data['paid_binary'] = data['paid'].apply(lambda x : 0 if x =='yes' else 1 )\n",
    "data['paid_binary']"
   ]
  },
  {
   "cell_type": "markdown",
   "id": "616a1a33",
   "metadata": {},
   "source": [
    "- activities"
   ]
  },
  {
   "cell_type": "code",
   "execution_count": 11,
   "id": "f4d6ae85",
   "metadata": {},
   "outputs": [
    {
     "data": {
      "text/plain": [
       "0      1\n",
       "1      1\n",
       "2      1\n",
       "3      0\n",
       "4      1\n",
       "      ..\n",
       "390    1\n",
       "391    1\n",
       "392    1\n",
       "393    1\n",
       "394    1\n",
       "Name: activities_binary, Length: 395, dtype: int64"
      ]
     },
     "execution_count": 11,
     "metadata": {},
     "output_type": "execute_result"
    }
   ],
   "source": [
    "data['activities_binary'] = data['activities'].apply(lambda x : 0 if x =='yes' else 1 )\n",
    "data['activities_binary']"
   ]
  },
  {
   "cell_type": "markdown",
   "id": "81dfe8d0",
   "metadata": {},
   "source": [
    "- nursery"
   ]
  },
  {
   "cell_type": "code",
   "execution_count": 12,
   "id": "d92ffb52",
   "metadata": {},
   "outputs": [
    {
     "data": {
      "text/plain": [
       "0      0\n",
       "1      1\n",
       "2      0\n",
       "3      0\n",
       "4      0\n",
       "      ..\n",
       "390    0\n",
       "391    1\n",
       "392    1\n",
       "393    1\n",
       "394    0\n",
       "Name: nursery_binary, Length: 395, dtype: int64"
      ]
     },
     "execution_count": 12,
     "metadata": {},
     "output_type": "execute_result"
    }
   ],
   "source": [
    "data['nursery_binary'] = data['nursery'].apply(lambda x : 0 if x =='yes' else 1 )\n",
    "data['nursery_binary']"
   ]
  },
  {
   "cell_type": "markdown",
   "id": "00591608",
   "metadata": {},
   "source": [
    "- higher"
   ]
  },
  {
   "cell_type": "code",
   "execution_count": 13,
   "id": "794c7e17",
   "metadata": {},
   "outputs": [
    {
     "data": {
      "text/plain": [
       "0      0\n",
       "1      0\n",
       "2      0\n",
       "3      0\n",
       "4      0\n",
       "      ..\n",
       "390    0\n",
       "391    0\n",
       "392    0\n",
       "393    0\n",
       "394    0\n",
       "Name: higher_binary, Length: 395, dtype: int64"
      ]
     },
     "execution_count": 13,
     "metadata": {},
     "output_type": "execute_result"
    }
   ],
   "source": [
    "data['higher_binary'] = data['higher'].apply(lambda x : 0 if x =='yes' else 1 )\n",
    "data['higher_binary']"
   ]
  },
  {
   "cell_type": "markdown",
   "id": "c0f3ea04",
   "metadata": {},
   "source": [
    "- internet"
   ]
  },
  {
   "cell_type": "code",
   "execution_count": 14,
   "id": "74dc183f",
   "metadata": {},
   "outputs": [
    {
     "data": {
      "text/plain": [
       "0      1\n",
       "1      0\n",
       "2      0\n",
       "3      0\n",
       "4      1\n",
       "      ..\n",
       "390    1\n",
       "391    0\n",
       "392    1\n",
       "393    0\n",
       "394    0\n",
       "Name: internet_binary, Length: 395, dtype: int64"
      ]
     },
     "execution_count": 14,
     "metadata": {},
     "output_type": "execute_result"
    }
   ],
   "source": [
    "data['internet_binary'] = data['internet'].apply(lambda x : 0 if x =='yes' else 1 )\n",
    "data['internet_binary']"
   ]
  },
  {
   "cell_type": "markdown",
   "id": "2d66e30e",
   "metadata": {},
   "source": [
    "- romantic"
   ]
  },
  {
   "cell_type": "code",
   "execution_count": 15,
   "id": "80e61068",
   "metadata": {},
   "outputs": [
    {
     "data": {
      "text/plain": [
       "0      1\n",
       "1      1\n",
       "2      1\n",
       "3      0\n",
       "4      1\n",
       "      ..\n",
       "390    1\n",
       "391    1\n",
       "392    1\n",
       "393    1\n",
       "394    1\n",
       "Name: romantic_binary, Length: 395, dtype: int64"
      ]
     },
     "execution_count": 15,
     "metadata": {},
     "output_type": "execute_result"
    }
   ],
   "source": [
    "data['romantic_binary'] = data['romantic'].apply(lambda x : 0 if x =='yes' else 1 )\n",
    "data['romantic_binary']"
   ]
  },
  {
   "cell_type": "markdown",
   "id": "6f4cac9c",
   "metadata": {},
   "source": [
    "## b) Medu, Fedu, Mjob, Fjob, reason, guardian, traveltime, studytime, famrel, freetime, gout, Dalc, Walc and health into ordinal numbers based on number of cases in the data set (create new columns without overwriting the existing ones)"
   ]
  },
  {
   "cell_type": "markdown",
   "id": "0f00cfa4",
   "metadata": {},
   "source": [
    "- Medu"
   ]
  },
  {
   "cell_type": "code",
   "execution_count": 16,
   "id": "9493d2c7",
   "metadata": {},
   "outputs": [
    {
     "data": {
      "text/plain": [
       "higher education                 1\n",
       "primary education (4th grade)    2\n",
       "secondary education              3\n",
       "5th to 9th grade                 4\n",
       "none                             5\n",
       "dtype: int64"
      ]
     },
     "execution_count": 16,
     "metadata": {},
     "output_type": "execute_result"
    }
   ],
   "source": [
    "'''find unique values of Medu and create a series to assign ordinal numbers to those unique values'''\n",
    "unique_medu_val = data['Medu'].unique()\n",
    "unique_series = pd.Series(np.arange(1,(len(unique_medu_val) + 1)),index = unique_medu_val)\n",
    "unique_series"
   ]
  },
  {
   "cell_type": "code",
   "execution_count": 17,
   "id": "2a88484b",
   "metadata": {},
   "outputs": [
    {
     "data": {
      "text/plain": [
       "0      1\n",
       "1      2\n",
       "2      2\n",
       "3      1\n",
       "4      3\n",
       "      ..\n",
       "390    4\n",
       "391    3\n",
       "392    2\n",
       "393    3\n",
       "394    2\n",
       "Name: medu_ordinal, Length: 395, dtype: int64"
      ]
     },
     "execution_count": 17,
     "metadata": {},
     "output_type": "execute_result"
    }
   ],
   "source": [
    "data['medu_ordinal'] = data['Medu'].apply(lambda x : unique_series[x])\n",
    "data['medu_ordinal']"
   ]
  },
  {
   "cell_type": "markdown",
   "id": "154d4f6a",
   "metadata": {},
   "source": [
    "- Fedu"
   ]
  },
  {
   "cell_type": "code",
   "execution_count": 18,
   "id": "e986a89b",
   "metadata": {},
   "outputs": [
    {
     "data": {
      "text/plain": [
       "higher education                 1\n",
       "primary education (4th grade)    2\n",
       "5th to 9th grade                 3\n",
       "secondary education              4\n",
       "none                             5\n",
       "dtype: int64"
      ]
     },
     "execution_count": 18,
     "metadata": {},
     "output_type": "execute_result"
    }
   ],
   "source": [
    "unique_fedu_val = data['Fedu'].unique()\n",
    "unique_series = pd.Series(np.arange(1,(len(unique_medu_val) + 1)),index = unique_fedu_val)\n",
    "unique_series"
   ]
  },
  {
   "cell_type": "code",
   "execution_count": 19,
   "id": "5faf0144",
   "metadata": {},
   "outputs": [
    {
     "data": {
      "text/plain": [
       "0      1\n",
       "1      2\n",
       "2      2\n",
       "3      3\n",
       "4      4\n",
       "      ..\n",
       "390    3\n",
       "391    2\n",
       "392    2\n",
       "393    3\n",
       "394    2\n",
       "Name: fedu_ordinal, Length: 395, dtype: int64"
      ]
     },
     "execution_count": 19,
     "metadata": {},
     "output_type": "execute_result"
    }
   ],
   "source": [
    "\n",
    "data['fedu_ordinal'] = data['Fedu'].apply(lambda x : unique_series[x])\n",
    "data['fedu_ordinal']"
   ]
  },
  {
   "cell_type": "markdown",
   "id": "0f2e415f",
   "metadata": {},
   "source": [
    "- Mjob"
   ]
  },
  {
   "cell_type": "code",
   "execution_count": 20,
   "id": "0f0ca087",
   "metadata": {},
   "outputs": [
    {
     "data": {
      "text/plain": [
       "at_home     1\n",
       "health      2\n",
       "other       3\n",
       "services    4\n",
       "teacher     5\n",
       "dtype: int64"
      ]
     },
     "execution_count": 20,
     "metadata": {},
     "output_type": "execute_result"
    }
   ],
   "source": [
    "unique_mjob_val = data['Mjob'].unique()\n",
    "unique_series = pd.Series(np.arange(1,(len(unique_mjob_val) + 1)),index = unique_mjob_val)\n",
    "unique_series\n"
   ]
  },
  {
   "cell_type": "code",
   "execution_count": 21,
   "id": "0452808c",
   "metadata": {},
   "outputs": [
    {
     "data": {
      "text/plain": [
       "0      1\n",
       "1      1\n",
       "2      1\n",
       "3      2\n",
       "4      3\n",
       "      ..\n",
       "390    4\n",
       "391    4\n",
       "392    3\n",
       "393    4\n",
       "394    3\n",
       "Name: Mjob_ordinal, Length: 395, dtype: int64"
      ]
     },
     "execution_count": 21,
     "metadata": {},
     "output_type": "execute_result"
    }
   ],
   "source": [
    "data['Mjob_ordinal'] = data['Mjob'].apply(lambda x : unique_series[x])\n",
    "data['Mjob_ordinal']"
   ]
  },
  {
   "cell_type": "markdown",
   "id": "af314b8a",
   "metadata": {},
   "source": [
    "- Fjob"
   ]
  },
  {
   "cell_type": "code",
   "execution_count": 22,
   "id": "fdc0313a",
   "metadata": {},
   "outputs": [
    {
     "data": {
      "text/plain": [
       "teacher     1\n",
       "other       2\n",
       "services    3\n",
       "health      4\n",
       "at_home     5\n",
       "dtype: int64"
      ]
     },
     "execution_count": 22,
     "metadata": {},
     "output_type": "execute_result"
    }
   ],
   "source": [
    "unique_Fjob_val = data['Fjob'].unique()\n",
    "unique_series = pd.Series(np.arange(1,(len(unique_Fjob_val) + 1)),index = unique_Fjob_val)\n",
    "unique_series"
   ]
  },
  {
   "cell_type": "code",
   "execution_count": 23,
   "id": "6f551f11",
   "metadata": {},
   "outputs": [
    {
     "data": {
      "text/plain": [
       "0      1\n",
       "1      2\n",
       "2      2\n",
       "3      3\n",
       "4      2\n",
       "      ..\n",
       "390    3\n",
       "391    3\n",
       "392    2\n",
       "393    2\n",
       "394    5\n",
       "Name: Fjob_ordinal, Length: 395, dtype: int64"
      ]
     },
     "execution_count": 23,
     "metadata": {},
     "output_type": "execute_result"
    }
   ],
   "source": [
    "data['Fjob_ordinal'] = data['Fjob'].apply(lambda x : unique_series[x])\n",
    "data['Fjob_ordinal']"
   ]
  },
  {
   "cell_type": "markdown",
   "id": "36516325",
   "metadata": {},
   "source": [
    "- reason"
   ]
  },
  {
   "cell_type": "code",
   "execution_count": 24,
   "id": "9c2cc747",
   "metadata": {},
   "outputs": [
    {
     "data": {
      "text/plain": [
       "course        1\n",
       "other         2\n",
       "home          3\n",
       "reputation    4\n",
       "dtype: int64"
      ]
     },
     "execution_count": 24,
     "metadata": {},
     "output_type": "execute_result"
    }
   ],
   "source": [
    "unique_reason_val = data['reason'].unique()\n",
    "unique_series = pd.Series(np.arange(1,(len(unique_reason_val) + 1)),index = unique_reason_val)\n",
    "unique_series"
   ]
  },
  {
   "cell_type": "code",
   "execution_count": 25,
   "id": "c7292024",
   "metadata": {},
   "outputs": [
    {
     "data": {
      "text/plain": [
       "0      1\n",
       "1      1\n",
       "2      2\n",
       "3      3\n",
       "4      3\n",
       "      ..\n",
       "390    1\n",
       "391    1\n",
       "392    1\n",
       "393    1\n",
       "394    1\n",
       "Name: reason_ordinal, Length: 395, dtype: int64"
      ]
     },
     "execution_count": 25,
     "metadata": {},
     "output_type": "execute_result"
    }
   ],
   "source": [
    "data['reason_ordinal'] = data['reason'].apply(lambda x : unique_series[x])\n",
    "data['reason_ordinal']"
   ]
  },
  {
   "cell_type": "markdown",
   "id": "855a0ee3",
   "metadata": {},
   "source": [
    "- guardian"
   ]
  },
  {
   "cell_type": "code",
   "execution_count": 26,
   "id": "88c2d09f",
   "metadata": {},
   "outputs": [
    {
     "data": {
      "text/plain": [
       "mother    1\n",
       "father    2\n",
       "other     3\n",
       "dtype: int64"
      ]
     },
     "execution_count": 26,
     "metadata": {},
     "output_type": "execute_result"
    }
   ],
   "source": [
    "unique_guardian_val = data['guardian'].unique()\n",
    "unique_series = pd.Series(np.arange(1,(len(unique_guardian_val) + 1)),index = unique_guardian_val)\n",
    "unique_series"
   ]
  },
  {
   "cell_type": "code",
   "execution_count": 27,
   "id": "ce1d2aca",
   "metadata": {},
   "outputs": [
    {
     "data": {
      "text/plain": [
       "0      1\n",
       "1      2\n",
       "2      1\n",
       "3      1\n",
       "4      2\n",
       "      ..\n",
       "390    3\n",
       "391    1\n",
       "392    3\n",
       "393    1\n",
       "394    2\n",
       "Name: guardian_ordinal, Length: 395, dtype: int64"
      ]
     },
     "execution_count": 27,
     "metadata": {},
     "output_type": "execute_result"
    }
   ],
   "source": [
    "data['guardian_ordinal'] = data['guardian'].apply(lambda x : unique_series[x])\n",
    "data['guardian_ordinal']"
   ]
  },
  {
   "cell_type": "markdown",
   "id": "577ef265",
   "metadata": {},
   "source": [
    "- studytime"
   ]
  },
  {
   "cell_type": "code",
   "execution_count": 28,
   "id": "547fadc1",
   "metadata": {},
   "outputs": [
    {
     "data": {
      "text/plain": [
       "2 to 5 hours     1\n",
       "5 to 10 hours    2\n",
       "<2 hours         3\n",
       ">10 hours        4\n",
       "dtype: int64"
      ]
     },
     "execution_count": 28,
     "metadata": {},
     "output_type": "execute_result"
    }
   ],
   "source": [
    "unique_studytime_val = data['studytime'].unique()\n",
    "unique_series = pd.Series(np.arange(1,(len(unique_studytime_val) + 1)),index = unique_studytime_val)\n",
    "unique_series"
   ]
  },
  {
   "cell_type": "code",
   "execution_count": 29,
   "id": "90a9cc6f",
   "metadata": {},
   "outputs": [
    {
     "data": {
      "text/plain": [
       "0      1\n",
       "1      1\n",
       "2      1\n",
       "3      2\n",
       "4      1\n",
       "      ..\n",
       "390    1\n",
       "391    3\n",
       "392    3\n",
       "393    3\n",
       "394    3\n",
       "Name: studytime_ordinal, Length: 395, dtype: int64"
      ]
     },
     "execution_count": 29,
     "metadata": {},
     "output_type": "execute_result"
    }
   ],
   "source": [
    "data['studytime_ordinal'] = data['studytime'].apply(lambda x : unique_series[x])\n",
    "data['studytime_ordinal']"
   ]
  },
  {
   "cell_type": "markdown",
   "id": "9a7a55ce",
   "metadata": {},
   "source": [
    "- traveltime"
   ]
  },
  {
   "cell_type": "code",
   "execution_count": 30,
   "id": "ef0549b0",
   "metadata": {},
   "outputs": [
    {
     "data": {
      "text/plain": [
       "15 to 30 min.        1\n",
       "<15 min.             2\n",
       "30 min. to 1 hour    3\n",
       ">1 hour              4\n",
       "dtype: int64"
      ]
     },
     "execution_count": 30,
     "metadata": {},
     "output_type": "execute_result"
    }
   ],
   "source": [
    "unique_traveltime_val = data['traveltime'].unique()\n",
    "unique_series = pd.Series(np.arange(1,(len(unique_traveltime_val) + 1)),index = unique_traveltime_val)\n",
    "unique_series"
   ]
  },
  {
   "cell_type": "code",
   "execution_count": 31,
   "id": "7304e5cf",
   "metadata": {},
   "outputs": [
    {
     "data": {
      "text/plain": [
       "0      1\n",
       "1      2\n",
       "2      2\n",
       "3      2\n",
       "4      2\n",
       "      ..\n",
       "390    2\n",
       "391    1\n",
       "392    2\n",
       "393    3\n",
       "394    2\n",
       "Name: traveltime_ordinal, Length: 395, dtype: int64"
      ]
     },
     "execution_count": 31,
     "metadata": {},
     "output_type": "execute_result"
    }
   ],
   "source": [
    "data['traveltime_ordinal'] = data['traveltime'].apply(lambda x : unique_series[x])\n",
    "data['traveltime_ordinal']"
   ]
  },
  {
   "cell_type": "markdown",
   "id": "e35a2a7c",
   "metadata": {},
   "source": [
    "- famrel"
   ]
  },
  {
   "cell_type": "code",
   "execution_count": 32,
   "id": "e79e33fe",
   "metadata": {},
   "outputs": [
    {
     "data": {
      "text/plain": [
       "very good    1\n",
       "excellent    2\n",
       "good         3\n",
       "very bad     4\n",
       "bad          5\n",
       "dtype: int64"
      ]
     },
     "execution_count": 32,
     "metadata": {},
     "output_type": "execute_result"
    }
   ],
   "source": [
    "unique_famrel_val = data['famrel'].unique()\n",
    "unique_series = pd.Series(np.arange(1,(len(unique_famrel_val) + 1)),index = unique_famrel_val)\n",
    "unique_series"
   ]
  },
  {
   "cell_type": "code",
   "execution_count": 33,
   "id": "ea8785e9",
   "metadata": {},
   "outputs": [
    {
     "data": {
      "text/plain": [
       "0      1\n",
       "1      2\n",
       "2      1\n",
       "3      3\n",
       "4      1\n",
       "      ..\n",
       "390    2\n",
       "391    5\n",
       "392    2\n",
       "393    1\n",
       "394    3\n",
       "Name: famrel_ordinal, Length: 395, dtype: int64"
      ]
     },
     "execution_count": 33,
     "metadata": {},
     "output_type": "execute_result"
    }
   ],
   "source": [
    "data['famrel_ordinal'] = data['famrel'].apply(lambda x : unique_series[x])\n",
    "data['famrel_ordinal']"
   ]
  },
  {
   "cell_type": "markdown",
   "id": "a80a8016",
   "metadata": {},
   "source": [
    "- freetime"
   ]
  },
  {
   "cell_type": "code",
   "execution_count": 34,
   "id": "553a889c",
   "metadata": {},
   "outputs": [
    {
     "data": {
      "text/plain": [
       "medium       1\n",
       "low          2\n",
       "high         3\n",
       "very low     4\n",
       "very high    5\n",
       "dtype: int64"
      ]
     },
     "execution_count": 34,
     "metadata": {},
     "output_type": "execute_result"
    }
   ],
   "source": [
    "unique_freetime_val = data['freetime'].unique()\n",
    "unique_series = pd.Series(np.arange(1,(len(unique_freetime_val) + 1)),index = unique_freetime_val)\n",
    "unique_series"
   ]
  },
  {
   "cell_type": "code",
   "execution_count": 35,
   "id": "954d6b54",
   "metadata": {},
   "outputs": [
    {
     "data": {
      "text/plain": [
       "0      1\n",
       "1      1\n",
       "2      1\n",
       "3      2\n",
       "4      1\n",
       "      ..\n",
       "390    5\n",
       "391    3\n",
       "392    5\n",
       "393    3\n",
       "394    2\n",
       "Name: freetime_ordinal, Length: 395, dtype: int64"
      ]
     },
     "execution_count": 35,
     "metadata": {},
     "output_type": "execute_result"
    }
   ],
   "source": [
    "data['freetime_ordinal'] = data['freetime'].apply(lambda x : unique_series[x])\n",
    "data['freetime_ordinal']"
   ]
  },
  {
   "cell_type": "markdown",
   "id": "a6b71a95",
   "metadata": {},
   "source": [
    "- gout"
   ]
  },
  {
   "cell_type": "code",
   "execution_count": 36,
   "id": "95e679e2",
   "metadata": {},
   "outputs": [
    {
     "data": {
      "text/plain": [
       "high         1\n",
       "medium       2\n",
       "low          3\n",
       "very low     4\n",
       "very high    5\n",
       "dtype: int64"
      ]
     },
     "execution_count": 36,
     "metadata": {},
     "output_type": "execute_result"
    }
   ],
   "source": [
    "unique_goout_val = data['goout'].unique()\n",
    "unique_series = pd.Series(np.arange(1,(len(unique_goout_val) + 1)),index = unique_goout_val)\n",
    "unique_series"
   ]
  },
  {
   "cell_type": "code",
   "execution_count": 37,
   "id": "b8f2a538",
   "metadata": {},
   "outputs": [
    {
     "data": {
      "text/plain": [
       "0      1\n",
       "1      2\n",
       "2      3\n",
       "3      3\n",
       "4      3\n",
       "      ..\n",
       "390    1\n",
       "391    5\n",
       "392    2\n",
       "393    4\n",
       "394    2\n",
       "Name: goout_ordinal, Length: 395, dtype: int64"
      ]
     },
     "execution_count": 37,
     "metadata": {},
     "output_type": "execute_result"
    }
   ],
   "source": [
    "data['goout_ordinal'] = data['goout'].apply(lambda x : unique_series[x])\n",
    "data['goout_ordinal']"
   ]
  },
  {
   "cell_type": "markdown",
   "id": "2ac88ebe",
   "metadata": {},
   "source": [
    "- Dalc"
   ]
  },
  {
   "cell_type": "code",
   "execution_count": 38,
   "id": "0a6d8c08",
   "metadata": {},
   "outputs": [
    {
     "data": {
      "text/plain": [
       "very low     1\n",
       "low          2\n",
       "very high    3\n",
       "medium       4\n",
       "high         5\n",
       "dtype: int64"
      ]
     },
     "execution_count": 38,
     "metadata": {},
     "output_type": "execute_result"
    }
   ],
   "source": [
    "unique_Dalc_val = data['Dalc'].unique()\n",
    "unique_series = pd.Series(np.arange(1,(len(unique_Dalc_val) + 1)),index = unique_Dalc_val)\n",
    "unique_series"
   ]
  },
  {
   "cell_type": "code",
   "execution_count": 39,
   "id": "7f3353d2",
   "metadata": {},
   "outputs": [
    {
     "data": {
      "text/plain": [
       "0      1\n",
       "1      1\n",
       "2      2\n",
       "3      1\n",
       "4      1\n",
       "      ..\n",
       "390    5\n",
       "391    4\n",
       "392    4\n",
       "393    4\n",
       "394    4\n",
       "Name: Dalc_ordinal, Length: 395, dtype: int64"
      ]
     },
     "execution_count": 39,
     "metadata": {},
     "output_type": "execute_result"
    }
   ],
   "source": [
    "data['Dalc_ordinal'] = data['Dalc'].apply(lambda x : unique_series[x])\n",
    "data['Dalc_ordinal']"
   ]
  },
  {
   "cell_type": "markdown",
   "id": "fd8c5cbe",
   "metadata": {},
   "source": [
    "- Walc"
   ]
  },
  {
   "cell_type": "code",
   "execution_count": 40,
   "id": "8916445c",
   "metadata": {},
   "outputs": [
    {
     "data": {
      "text/plain": [
       "very low     1\n",
       "medium       2\n",
       "low          3\n",
       "high         4\n",
       "very high    5\n",
       "dtype: int64"
      ]
     },
     "execution_count": 40,
     "metadata": {},
     "output_type": "execute_result"
    }
   ],
   "source": [
    "unique_Walc_val = data['Walc'].unique()\n",
    "unique_series = pd.Series(np.arange(1,(len(unique_Walc_val) + 1)),index = unique_Walc_val)\n",
    "unique_series"
   ]
  },
  {
   "cell_type": "code",
   "execution_count": 41,
   "id": "5c0ea308",
   "metadata": {},
   "outputs": [
    {
     "data": {
      "text/plain": [
       "0      1\n",
       "1      1\n",
       "2      2\n",
       "3      1\n",
       "4      3\n",
       "      ..\n",
       "390    5\n",
       "391    4\n",
       "392    2\n",
       "393    4\n",
       "394    2\n",
       "Name: Walc_ordinal, Length: 395, dtype: int64"
      ]
     },
     "execution_count": 41,
     "metadata": {},
     "output_type": "execute_result"
    }
   ],
   "source": [
    "data['Walc_ordinal'] = data['Walc'].apply(lambda x : unique_series[x])\n",
    "data['Walc_ordinal']"
   ]
  },
  {
   "cell_type": "markdown",
   "id": "59d1dea0",
   "metadata": {},
   "source": [
    "- health"
   ]
  },
  {
   "cell_type": "code",
   "execution_count": 42,
   "id": "d7577c4d",
   "metadata": {},
   "outputs": [
    {
     "data": {
      "text/plain": [
       "good         1\n",
       "excellent    2\n",
       "very bad     3\n",
       "bad          4\n",
       "very good    5\n",
       "dtype: int64"
      ]
     },
     "execution_count": 42,
     "metadata": {},
     "output_type": "execute_result"
    }
   ],
   "source": [
    "unique_health_val = data['health'].unique()\n",
    "unique_series = pd.Series(np.arange(1,(len(unique_health_val) + 1)),index = unique_health_val)\n",
    "unique_series"
   ]
  },
  {
   "cell_type": "code",
   "execution_count": 43,
   "id": "e742daeb",
   "metadata": {},
   "outputs": [
    {
     "data": {
      "text/plain": [
       "0      1\n",
       "1      1\n",
       "2      1\n",
       "3      2\n",
       "4      2\n",
       "      ..\n",
       "390    5\n",
       "391    4\n",
       "392    1\n",
       "393    2\n",
       "394    2\n",
       "Name: health_ordinal, Length: 395, dtype: int64"
      ]
     },
     "execution_count": 43,
     "metadata": {},
     "output_type": "execute_result"
    }
   ],
   "source": [
    "data['health_ordinal'] = data['health'].apply(lambda x : unique_series[x])\n",
    "data['health_ordinal']\n"
   ]
  },
  {
   "cell_type": "markdown",
   "id": "2701d1ee",
   "metadata": {},
   "source": [
    " ## c) create a new column named age_category whose values should be based on the values in the age column, divide the values into 3 ordinal numbers; 1 – 15 to 17, 2 – 18 to 20, 3 – 21 and over"
   ]
  },
  {
   "cell_type": "code",
   "execution_count": 44,
   "id": "0e528ffb",
   "metadata": {},
   "outputs": [
    {
     "data": {
      "text/plain": [
       "array([18, 17, 15, 16, 19, 22, 20, 21])"
      ]
     },
     "execution_count": 44,
     "metadata": {},
     "output_type": "execute_result"
    }
   ],
   "source": [
    "''' unique_age_val store the unique continue ages'''\n",
    "unique_age_val = data['age'].unique()\n",
    "unique_age_val"
   ]
  },
  {
   "cell_type": "code",
   "execution_count": 45,
   "id": "6c1fca29",
   "metadata": {},
   "outputs": [
    {
     "data": {
      "text/plain": [
       "0      2\n",
       "1      1\n",
       "2      1\n",
       "3      1\n",
       "4      1\n",
       "      ..\n",
       "390    2\n",
       "391    1\n",
       "392    3\n",
       "393    2\n",
       "394    2\n",
       "Name: age_category, Length: 395, dtype: category\n",
       "Categories (3, int64): [1 < 2 < 3]"
      ]
     },
     "execution_count": 45,
     "metadata": {},
     "output_type": "execute_result"
    }
   ],
   "source": [
    "'''Based on the unique_age_val values 4 bins are created and 3 corresponding labels are created. The labels are related to the age group bins in the following ways :\n",
    "1 : 15 - 17\n",
    "2 : 18 - 20\n",
    "3 : 21 and above\n",
    "'''\n",
    "data['age_category'] = pd.cut(data['age'], bins=[15,18,21,22], labels=[1,2,3], right=False)\n",
    "data['age_category']"
   ]
  },
  {
   "cell_type": "markdown",
   "id": "414fc0d1",
   "metadata": {},
   "source": [
    "## d) create a new column named passed (yes or no) whose values should be based on the values present in the G3 column (>=8 – yes, <8 – no)"
   ]
  },
  {
   "cell_type": "code",
   "execution_count": 46,
   "id": "8ac7cb96",
   "metadata": {},
   "outputs": [
    {
     "data": {
      "text/plain": [
       "0       no\n",
       "1       no\n",
       "2      yes\n",
       "3      yes\n",
       "4      yes\n",
       "      ... \n",
       "390    yes\n",
       "391    yes\n",
       "392     no\n",
       "393    yes\n",
       "394    yes\n",
       "Name: passed, Length: 395, dtype: object"
      ]
     },
     "execution_count": 46,
     "metadata": {},
     "output_type": "execute_result"
    }
   ],
   "source": [
    "data['passed'] = data['G3'].apply(lambda x : 'yes' if x>=8 else 'no')\n",
    "data['passed']"
   ]
  }
 ],
 "metadata": {
  "kernelspec": {
   "display_name": "Python 3",
   "language": "python",
   "name": "python3"
  },
  "language_info": {
   "codemirror_mode": {
    "name": "ipython",
    "version": 3
   },
   "file_extension": ".py",
   "mimetype": "text/x-python",
   "name": "python",
   "nbconvert_exporter": "python",
   "pygments_lexer": "ipython3",
   "version": "3.8.8"
  }
 },
 "nbformat": 4,
 "nbformat_minor": 5
}
